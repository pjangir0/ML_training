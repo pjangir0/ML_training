{
 "cells": [
  {
   "cell_type": "code",
   "execution_count": 49,
   "metadata": {},
   "outputs": [],
   "source": [
    "import numpy as np\n",
    "from sklearn import linear_model\n",
    "import matplotlib.pyplot as plt"
   ]
  },
  {
   "cell_type": "code",
   "execution_count": 51,
   "metadata": {},
   "outputs": [
    {
     "name": "stdout",
     "output_type": "stream",
     "text": [
      "[[1400]\n",
      " [1600]\n",
      " [1700]\n",
      " [1875]\n",
      " [1100]\n",
      " [1550]\n",
      " [2350]\n",
      " [2450]\n",
      " [1425]\n",
      " [1700]]\n",
      "Coefficient:  [0.10976774] Intercept :  98.24832962138092\n"
     ]
    }
   ],
   "source": [
    "def graph(formula,x_range):\n",
    "    x = np.array(x_range)\n",
    "    print(x)\n",
    "    y = eval(formula)\n",
    "    print(y)\n",
    "    plt.plot(x,y)\n",
    "    \n",
    "house_price = [245,312,279,308,199,219,405,324,319,255]\n",
    "size  = [1400,1600,1700,1875,1100,1550,2350,2450,1425,1700]\n",
    "\n",
    "house_size =  np.array(size).reshape((-1,1))\n",
    "\n",
    "print(house_size)\n",
    "\n",
    "regr = linear_model.LinearRegression()\n",
    "regr.fit(house_size,house_price);\n",
    "print(\"Coefficient: \",regr.coef_,'Intercept : ',regr.intercept_)"
   ]
  },
  {
   "cell_type": "code",
   "execution_count": 52,
   "metadata": {},
   "outputs": [
    {
     "name": "stdout",
     "output_type": "stream",
     "text": [
      "prediction:  [251.92316258 273.87671015 284.85348393 304.06283805 218.99284123\n",
      " 268.38832326 356.20251352 367.17928731 254.66735603 284.85348393]\n",
      "original :  [245, 312, 279, 308, 199, 219, 405, 324, 319, 255]\n",
      "[1000 1001 1002 ... 2697 2698 2699]\n",
      "[208.01606745 208.12583519 208.23560293 ... 394.29191855 394.40168629\n",
      " 394.51145402]\n"
     ]
    },
    {
     "data": {
      "image/png": "[encoded data removed]",
      "text/plain": [
       "<Figure size 432x288 with 1 Axes>"
      ]
     },
     "metadata": {},
     "output_type": "display_data"
    },
    {
     "name": "stdout",
     "output_type": "stream",
     "text": [
      "31.038116449252318\n",
      "36.96696528565469\n"
     ]
    }
   ],
   "source": [
    "predicted = regr.predict(house_size)\n",
    "print(\"prediction: \",predicted)\n",
    "print(\"original : \",house_price)\n",
    "from sklearn import metrics\n",
    "error = metrics.mean_absolute_error(predicted,house_price)\n",
    "error1 = np.sqrt(metrics.mean_squared_error(predicted,house_price))\n",
    "graph('regr.coef_*x + regr.intercept_',range(1000,2700))\n",
    "plt.scatter(size,house_price,color = 'black')\n",
    "plt.scatter(size,predicted,color = 'red')\n",
    "plt.ylabel('price of house($)')\n",
    "plt.xlabel(\"size of house\")\n",
    "plt.show()\n",
    "print(error)\n",
    "print(error1)\n"
   ]
  },
  {
   "cell_type": "code",
   "execution_count": null,
   "metadata": {},
   "outputs": [],
   "source": []
  }
 ],
 "metadata": {
  "kernelspec": {
   "display_name": "Python 3",
   "language": "python",
   "name": "python3"
  },
  "language_info": {
   "codemirror_mode": {
    "name": "ipython",
    "version": 3
   },
   "file_extension": ".py",
   "mimetype": "text/x-python",
   "name": "python",
   "nbconvert_exporter": "python",
   "pygments_lexer": "ipython3",
   "version": "3.6.5"
  }
 },
 "nbformat": 4,
 "nbformat_minor": 2
}
