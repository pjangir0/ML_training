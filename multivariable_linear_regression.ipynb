{
 "cells": [
  {
   "cell_type": "code",
   "execution_count": 1,
   "metadata": {},
   "outputs": [
    {
     "name": "stderr",
     "output_type": "stream",
     "text": [
      "C:\\ProgramData\\Anaconda3\\lib\\site-packages\\sklearn\\cross_validation.py:41: DeprecationWarning: This module was deprecated in version 0.18 in favor of the model_selection module into which all the refactored classes and functions are moved. Also note that the interface of the new CV iterators are different from that of this module. This module will be removed in 0.20.\n",
      "  \"This module will be removed in 0.20.\", DeprecationWarning)\n"
     ]
    }
   ],
   "source": [
    "import pandas as pd\n",
    "import numpy as np\n",
    "import seaborn as sns\n",
    "from sklearn.cross_validation import train_test_split\n",
    "from sklearn.linear_model import LinearRegression\n",
    "from sklearn import metrics"
   ]
  },
  {
   "cell_type": "code",
   "execution_count": 23,
   "metadata": {},
   "outputs": [
    {
     "name": "stdout",
     "output_type": "stream",
     "text": [
      "      TV  radio  newspaper  sales\n",
      "1  230.1   37.8       69.2   22.1\n",
      "2   44.5   39.3       45.1   10.4\n",
      "3   17.2   45.9       69.3    9.3\n",
      "4  151.5   41.3       58.5   18.5\n",
      "5  180.8   10.8       58.4   12.9\n",
      "        TV  radio  newspaper  sales\n",
      "196   38.2    3.7       13.8    7.6\n",
      "197   94.2    4.9        8.1    9.7\n",
      "198  177.0    9.3        6.4   12.8\n",
      "199  283.6   42.0       66.2   25.5\n",
      "200  232.1    8.6        8.7   13.4\n"
     ]
    },
    {
     "data": {
      "text/plain": [
       "(200, 4)"
      ]
     },
     "execution_count": 23,
     "metadata": {},
     "output_type": "execute_result"
    }
   ],
   "source": [
    "data = pd.read_csv('Advertising.csv',index_col=0)\n",
    "\n",
    "print(data.head())\n",
    "print(data.tail())\n",
    "data.shape"
   ]
  },
  {
   "cell_type": "code",
   "execution_count": 24,
   "metadata": {},
   "outputs": [
    {
     "data": {
      "text/plain": [
       "(200, 3)"
      ]
     },
     "execution_count": 24,
     "metadata": {},
     "output_type": "execute_result"
    }
   ],
   "source": [
    "features_cols = ['TV','radio','newspaper']\n",
    "X = data[features_cols]\n",
    "X.shape\n",
    "#print(X)\n",
    "#X = data[['TV','radio','newspaper']]\n",
    "#print(X)"
   ]
  },
  {
   "cell_type": "code",
   "execution_count": 25,
   "metadata": {},
   "outputs": [
    {
     "name": "stdout",
     "output_type": "stream",
     "text": [
      "<class 'pandas.core.series.Series'>\n"
     ]
    },
    {
     "data": {
      "text/plain": [
       "(200,)"
      ]
     },
     "execution_count": 25,
     "metadata": {},
     "output_type": "execute_result"
    }
   ],
   "source": [
    "#y = data['sales']\n",
    "y = data.sales\n",
    "print(type(y))\n",
    "y.shape\n",
    "#np.array(y).reshape(-1,1)\n"
   ]
  },
  {
   "cell_type": "code",
   "execution_count": 52,
   "metadata": {},
   "outputs": [
    {
     "name": "stdout",
     "output_type": "stream",
     "text": [
      "(150, 3)\n",
      "(150,)\n",
      "(50, 3)\n",
      "(50,)\n"
     ]
    }
   ],
   "source": [
    "X_train,X_test,y_train,y_test = train_test_split(X,y,test_size=0.25,train_size=0.75,random_state=1)\n",
    "print(X_train.shape)\n",
    "print(y_train.shape)\n",
    "print(X_test.shape)\n",
    "print(y_test.shape)\n"
   ]
  },
  {
   "cell_type": "code",
   "execution_count": 53,
   "metadata": {},
   "outputs": [
    {
     "name": "stdout",
     "output_type": "stream",
     "text": [
      "2.8769666223179318\n",
      "[0.04656457 0.17915812 0.00345046]\n"
     ]
    }
   ],
   "source": [
    "linreg = LinearRegression()\n",
    "linreg.fit(X_train,y_train)\n",
    "print(linreg.intercept_)\n",
    "print(linreg.coef_)\n"
   ]
  },
  {
   "cell_type": "code",
   "execution_count": 54,
   "metadata": {},
   "outputs": [
    {
     "name": "stdout",
     "output_type": "stream",
     "text": [
      "1.4046514230328953\n"
     ]
    }
   ],
   "source": [
    "y_pred = linreg.predict(X_test)\n",
    "error = np.sqrt(metrics.mean_squared_error(y_test,y_pred))\n",
    "print(error)"
   ]
  },
  {
   "cell_type": "code",
   "execution_count": 55,
   "metadata": {},
   "outputs": [],
   "source": [
    "def graph(formula,x_range):\n",
    "    x = np.array(x_range)\n",
    "    #x1 = np.array(x1_range)\n",
    "    #x2 = np.array(x2_range)\n",
    "    #print(x)\n",
    "    y = eval(formula)\n",
    "    #print(y)\n",
    "    plt.plot(x,y)\n",
    "    "
   ]
  },
  {
   "cell_type": "code",
   "execution_count": 56,
   "metadata": {},
   "outputs": [
    {
     "data": {
      "image/png": "[encoded data removed]",
      "text/plain": [
       "<Figure size 432x288 with 1 Axes>"
      ]
     },
     "metadata": {},
     "output_type": "display_data"
    }
   ],
   "source": [
    "#graph('linreg.coef_[0]*x + linreg.coef_[1]*x+linreg.coef_[2]*x+ linreg.intercept_',range(0,300))\n",
    "import matplotlib.pyplot as plt\n",
    "plt.scatter(np.array(X_test.TV),np.array(y_test),color = 'cyan')\n",
    "plt.scatter(np.array(X_test.TV),np.array(y_pred),color = 'red')\n",
    "plt.xlabel('TV')\n",
    "plt.ylabel(\"sales\")\n",
    "plt.show()"
   ]
  },
  {
   "cell_type": "code",
   "execution_count": 57,
   "metadata": {},
   "outputs": [
    {
     "data": {
      "image/png": "[encoded data removed]",
      "text/plain": [
       "<Figure size 432x288 with 1 Axes>"
      ]
     },
     "metadata": {},
     "output_type": "display_data"
    }
   ],
   "source": [
    "plt.scatter(np.array(X_test.radio),np.array(y_test),color = 'green')\n",
    "plt.scatter(np.array(X_test.radio),np.array(y_pred),color = 'red')\n",
    "plt.xlabel('radio')\n",
    "plt.ylabel(\"sales\")\n",
    "plt.show()"
   ]
  },
  {
   "cell_type": "code",
   "execution_count": 58,
   "metadata": {},
   "outputs": [
    {
     "data": {
      "image/png": "[encoded data removed]",
      "text/plain": [
       "<Figure size 432x288 with 1 Axes>"
      ]
     },
     "metadata": {},
     "output_type": "display_data"
    }
   ],
   "source": [
    "plt.scatter(np.array(X_test.newspaper),np.array(y_test),color = 'purple')\n",
    "plt.scatter(np.array(X_test.newspaper),np.array(y_pred),color = 'red')\n",
    "plt.xlabel('newspaper')\n",
    "plt.ylabel(\"Sales\")\n",
    "plt.show()"
   ]
  },
  {
   "cell_type": "code",
   "execution_count": 59,
   "metadata": {},
   "outputs": [
    {
     "name": "stdout",
     "output_type": "stream",
     "text": [
      "<class 'pandas.core.series.Series'>\n",
      "(200,)\n",
      "(150, 2)\n",
      "(150,)\n",
      "(50, 2)\n",
      "(50,)\n",
      "2.9272373202664834\n",
      "[0.04660234 0.18117959]\n",
      "1.3879034699382886\n"
     ]
    }
   ],
   "source": [
    "features_cols = ['TV','radio']\n",
    "X = data[features_cols]\n",
    "X.shape\n",
    "#print(X)\n",
    "#X = data[['TV','radio','newspaper']]\n",
    "#print(X)\n",
    "y = data.sales\n",
    "print(type(y))\n",
    "print(y.shape)\n",
    "X_train,X_test,y_train,y_test = train_test_split(X,y,random_state=1)\n",
    "print(X_train.shape)\n",
    "print(y_train.shape)\n",
    "print(X_test.shape)\n",
    "print(y_test.shape)\n",
    "linreg = LinearRegression()\n",
    "linreg.fit(X_train,y_train)\n",
    "print(linreg.intercept_)\n",
    "print(linreg.coef_)\n",
    "y_pred = linreg.predict(X_test)\n",
    "error = np.sqrt(metrics.mean_squared_error(y_test,y_pred))\n",
    "print(error)"
   ]
  },
  {
   "cell_type": "code",
   "execution_count": 60,
   "metadata": {},
   "outputs": [
    {
     "name": "stdout",
     "output_type": "stream",
     "text": [
      "<class 'pandas.core.series.Series'>\n",
      "(200,)\n",
      "(150, 2)\n",
      "(150,)\n",
      "(50, 2)\n",
      "(50,)\n",
      "5.359203256674128\n",
      "[0.04714929 0.05655871]\n",
      "3.352056334433862\n"
     ]
    }
   ],
   "source": [
    "features_cols = ['TV','newspaper']\n",
    "X = data[features_cols]\n",
    "X.shape\n",
    "#print(X)\n",
    "#X = data[['TV','radio','newspaper']]\n",
    "#print(X)\n",
    "y = data.sales\n",
    "print(type(y))\n",
    "print(y.shape)\n",
    "X_train,X_test,y_train,y_test = train_test_split(X,y,random_state=1)\n",
    "print(X_train.shape)\n",
    "print(y_train.shape)\n",
    "print(X_test.shape)\n",
    "print(y_test.shape)\n",
    "linreg = LinearRegression()\n",
    "linreg.fit(X_train,y_train)\n",
    "print(linreg.intercept_)\n",
    "print(linreg.coef_)\n",
    "y_pred = linreg.predict(X_test)\n",
    "error = np.sqrt(metrics.mean_squared_error(y_test,y_pred))\n",
    "print(error)"
   ]
  },
  {
   "cell_type": "code",
   "execution_count": 65,
   "metadata": {},
   "outputs": [
    {
     "name": "stdout",
     "output_type": "stream",
     "text": [
      "<class 'pandas.core.series.Series'>\n",
      "(200,)\n",
      "(150, 2)\n",
      "(150,)\n",
      "(50, 2)\n",
      "(50,)\n",
      "9.116631864649122\n",
      "[0.18526081 0.01380767]\n",
      "3.7486974974677265\n"
     ]
    }
   ],
   "source": [
    "features_cols = ['radio','newspaper']\n",
    "X = data[features_cols]\n",
    "X.shape\n",
    "#print(X)\n",
    "#X = data[['TV','radio','newspaper']]\n",
    "#print(X)\n",
    "y = data.sales\n",
    "print(type(y))\n",
    "print(y.shape)\n",
    "X_train,X_test,y_train,y_test = train_test_split(X,y,test_size=0.25,train_size=0.75,random_state=1)\n",
    "print(X_train.shape)\n",
    "print(y_train.shape)\n",
    "print(X_test.shape)\n",
    "print(y_test.shape)\n",
    "linreg = LinearRegression()\n",
    "linreg.fit(X_train,y_train)\n",
    "print(linreg.intercept_)\n",
    "print(linreg.coef_)\n",
    "y_pred = linreg.predict(X_test)\n",
    "error = np.sqrt(metrics.mean_squared_error(y_test,y_pred))\n",
    "print(error)"
   ]
  },
  {
   "cell_type": "code",
   "execution_count": null,
   "metadata": {},
   "outputs": [],
   "source": []
  },
  {
   "cell_type": "code",
   "execution_count": null,
   "metadata": {},
   "outputs": [],
   "source": []
  },
  {
   "cell_type": "code",
   "execution_count": null,
   "metadata": {},
   "outputs": [],
   "source": []
  }
 ],
 "metadata": {
  "kernelspec": {
   "display_name": "Python 3",
   "language": "python",
   "name": "python3"
  },
  "language_info": {
   "codemirror_mode": {
    "name": "ipython",
    "version": 3
   },
   "file_extension": ".py",
   "mimetype": "text/x-python",
   "name": "python",
   "nbconvert_exporter": "python",
   "pygments_lexer": "ipython3",
   "version": "3.6.5"
  }
 },
 "nbformat": 4,
 "nbformat_minor": 2
}
